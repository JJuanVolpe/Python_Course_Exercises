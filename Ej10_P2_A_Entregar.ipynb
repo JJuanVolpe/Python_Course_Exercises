{
 "cells": [
  {
   "cell_type": "code",
   "execution_count": 3,
   "id": "6a9c8eb2",
   "metadata": {},
   "outputs": [],
   "source": [
    "\"\"\"\n",
    "10. Trabajando con los contenidos de los archivos que pueden acceder en el curso:\n",
    "• nombres\n",
    "    • eval1\n",
    "    • eval2\n",
    "Manipule estos archivos para realizar lo siguiente:\n",
    "    • Generar una estructura con los nombres de los estudiantes y la suma de ambas notas.\n",
    "    • Calcular el promedio de las notas totales e informar que alumnos obtuvieron menos que el\n",
    "    promedio.\n",
    "\n",
    "\"\"\"\n",
    "\n",
    "\n",
    "def get_number(file):\n",
    "    \"\"\"Generamos lectura de la nota en el archivo arg.\"\"\"\n",
    "    return int(file.readline().replace(',', '').replace('\\n', '').replace(' ', ''))\n",
    "\n",
    "\n",
    "def clean_key(st):\n",
    "    \"\"\"Eliminamos carácteres no deseados\"\"\"\n",
    "    return str(st).replace(',', '').replace('\\n', '').replace('\\'', '').replace(' ', '')\n",
    "\n",
    "\n",
    "def get_average(list_tuples):\n",
    "    \"\"\"Calculamos promedio\"\"\"\n",
    "    avg = 0\n",
    "    for tup in list_tuples:\n",
    "        avg += tup[1] + tup[2]\n",
    "    return avg / len(list_tuples)\n",
    "\n",
    "\n",
    "def generate_list_tuples():\n",
    "    \"\"\"Generamos lista de tuplas única y la devolvemos\"\"\"\n",
    "\n",
    "    values = []\n",
    "    with open('nombres_1.txt', 'r') as name_f, \\\n",
    "            open('eval1.txt', 'r') as notes_one, open('eval2.txt', 'r') as notes_two:\n",
    "        listed_names = name_f.readlines()\n",
    "        for line in listed_names:\n",
    "            tup = clean_key(line), get_number(notes_one), get_number(notes_two)\n",
    "            values.append(tup)\n",
    "    return values"
   ]
  },
  {
   "cell_type": "markdown",
   "id": "34411d68",
   "metadata": {},
   "source": [
    "* Genero la lista de tuplas con alumnos"
   ]
  },
  {
   "cell_type": "code",
   "execution_count": 4,
   "id": "b54e1c2d",
   "metadata": {},
   "outputs": [],
   "source": [
    "listed_students = generate_list_tuples()"
   ]
  },
  {
   "cell_type": "markdown",
   "id": "c1ae753f",
   "metadata": {},
   "source": [
    "* Obtengo promedio de notas en cada tupla de la lista"
   ]
  },
  {
   "cell_type": "code",
   "execution_count": 5,
   "id": "84182ce3",
   "metadata": {},
   "outputs": [],
   "source": [
    "p = get_average(listed_students)"
   ]
  },
  {
   "cell_type": "markdown",
   "id": "1d5129af",
   "metadata": {},
   "source": [
    "Analizo si el puntaje del alumno es menor al promedio e imprimo sus datos"
   ]
  },
  {
   "cell_type": "code",
   "execution_count": 6,
   "id": "bc426e03",
   "metadata": {},
   "outputs": [
    {
     "name": "stdout",
     "output_type": "stream",
     "text": [
      "El siguiente alumno tiene un promedio menor a la media: Agustin -> con notas: (81, 30)\n",
      "El siguiente alumno tiene un promedio menor a la media: Alan -> con notas: (60, 95)\n",
      "El siguiente alumno tiene un promedio menor a la media: Andrés -> con notas: (72, 28)\n",
      "El siguiente alumno tiene un promedio menor a la media: Ariadna -> con notas: (24, 84)\n",
      "El siguiente alumno tiene un promedio menor a la media: Bautista -> con notas: (15, 84)\n",
      "El siguiente alumno tiene un promedio menor a la media: CAROLINA -> con notas: (91, 43)\n",
      "El siguiente alumno tiene un promedio menor a la media: David -> con notas: (70, 51)\n",
      "El siguiente alumno tiene un promedio menor a la media: Fabián -> con notas: (67, 34)\n",
      "El siguiente alumno tiene un promedio menor a la media: Facundo -> con notas: (10, 96)\n",
      "El siguiente alumno tiene un promedio menor a la media: Facundo -> con notas: (57, 71)\n",
      "El siguiente alumno tiene un promedio menor a la media: FEDERICO -> con notas: (11, 86)\n",
      "El siguiente alumno tiene un promedio menor a la media: FEDERICO -> con notas: (69, 37)\n",
      "El siguiente alumno tiene un promedio menor a la media: Jonathan -> con notas: (86, 87)\n",
      "El siguiente alumno tiene un promedio menor a la media: JOSE -> con notas: (51, 49)\n",
      "El siguiente alumno tiene un promedio menor a la media: Juan -> con notas: (87, 55)\n",
      "El siguiente alumno tiene un promedio menor a la media: Juan -> con notas: (43, 69)\n",
      "El siguiente alumno tiene un promedio menor a la media: Julieta -> con notas: (87, 59)\n",
      "El siguiente alumno tiene un promedio menor a la media: LAUTARO -> con notas: (91, 57)\n",
      "El siguiente alumno tiene un promedio menor a la media: LUIS -> con notas: (44, 96)\n",
      "El siguiente alumno tiene un promedio menor a la media: Luis -> con notas: (85, 24)\n",
      "El siguiente alumno tiene un promedio menor a la media: Marcos -> con notas: (73, 30)\n",
      "El siguiente alumno tiene un promedio menor a la media: María -> con notas: (37, 73)\n",
      "El siguiente alumno tiene un promedio menor a la media: MATEO -> con notas: (42, 95)\n",
      "El siguiente alumno tiene un promedio menor a la media: Matias -> con notas: (95, 19)\n",
      "El siguiente alumno tiene un promedio menor a la media: Noelia -> con notas: (74, 31)\n",
      "El siguiente alumno tiene un promedio menor a la media: Pablo -> con notas: (60, 39)\n",
      "El siguiente alumno tiene un promedio menor a la media: TOMAS -> con notas: (65, 74)\n",
      "El siguiente alumno tiene un promedio menor a la media: Tomás -> con notas: (93, 33)\n",
      "El siguiente alumno tiene un promedio menor a la media: Ulises -> con notas: (63, 57)\n"
     ]
    }
   ],
   "source": [
    "for student in listed_students:\n",
    "    if (student[1] + student[2]) > p:\n",
    "        print(f'El siguiente alumno tiene un promedio menor a la media: {student[0]} -> con notas: {student[1:]}')"
   ]
  }
 ],
 "metadata": {
  "kernelspec": {
   "display_name": "Python 3 (ipykernel)",
   "language": "python",
   "name": "python3"
  },
  "language_info": {
   "codemirror_mode": {
    "name": "ipython",
    "version": 3
   },
   "file_extension": ".py",
   "mimetype": "text/x-python",
   "name": "python",
   "nbconvert_exporter": "python",
   "pygments_lexer": "ipython3",
   "version": "3.10.2"
  }
 },
 "nbformat": 4,
 "nbformat_minor": 5
}
