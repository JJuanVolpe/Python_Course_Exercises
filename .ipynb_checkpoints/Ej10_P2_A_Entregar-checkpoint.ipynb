{
 "cells": [
  {
   "cell_type": "code",
   "execution_count": null,
   "id": "6a9c8eb2",
   "metadata": {},
   "outputs": [],
   "source": [
    "\"\"\"\n",
    "10. Trabajando con los contenidos de los archivos que pueden acceder en el curso:\n",
    "• nombres\n",
    "    • eval1\n",
    "    • eval2\n",
    "Manipule estos archivos para realizar lo siguiente:\n",
    "    • Generar una estructura con los nombres de los estudiantes y la suma de ambas notas.\n",
    "    • Calcular el promedio de las notas totales e informar que alumnos obtuvieron menos que el\n",
    "    promedio.\n",
    "\n",
    "\"\"\"\n",
    "\n",
    "\n",
    "def get_number(file):\n",
    "    \"\"\"Generamos lectura de la nota en el archivo arg.\"\"\"\n",
    "    return int(file.readline().replace(',', '').replace('\\n', '').replace(' ', ''))\n",
    "\n",
    "\n",
    "def clean_key(st):\n",
    "    \"\"\"Eliminamos carácteres no deseados\"\"\"\n",
    "    return str(st).replace(',', '').replace('\\n', '').replace('\\'', '').replace(' ', '')\n",
    "\n",
    "\n",
    "def get_average(list_tuples):\n",
    "    \"\"\"Calculamos promedio\"\"\"\n",
    "    avg = 0\n",
    "    for tup in list_tuples:\n",
    "        avg += tup[1] + tup[2]\n",
    "    return avg / len(list_tuples)\n",
    "\n",
    "\n",
    "def generate_list_tuples():\n",
    "    \"\"\"Generamos lista de tuplas única y la devolvemos\"\"\"\n",
    "\n",
    "    values = []\n",
    "    with open('nombres_1.txt', 'r') as name_f, \\\n",
    "            open('eval1.txt', 'r') as notes_one, open('eval2.txt', 'r') as notes_two:\n",
    "        listed_names = name_f.readlines()\n",
    "        for line in listed_names:\n",
    "            tup = clean_key(line), get_number(notes_one), get_number(notes_two)\n",
    "            values.append(tup)\n",
    "    return values"
   ]
  },
  {
   "cell_type": "markdown",
   "id": "34411d68",
   "metadata": {},
   "source": [
    "* Genero la lista de tuplas con alumnos"
   ]
  },
  {
   "cell_type": "code",
   "execution_count": null,
   "id": "b54e1c2d",
   "metadata": {},
   "outputs": [],
   "source": [
    "listed_students = generate_list_tuples()"
   ]
  },
  {
   "cell_type": "markdown",
   "id": "c1ae753f",
   "metadata": {},
   "source": [
    "* Obtengo promedio de notas en cada tupla de la lista"
   ]
  },
  {
   "cell_type": "code",
   "execution_count": null,
   "id": "84182ce3",
   "metadata": {},
   "outputs": [],
   "source": [
    "p = get_average(listed_students)"
   ]
  },
  {
   "cell_type": "markdown",
   "id": "1d5129af",
   "metadata": {},
   "source": [
    "Analizo si el puntaje del alumno es menor al promedio e imprimo sus datos"
   ]
  },
  {
   "cell_type": "code",
   "execution_count": null,
   "id": "bc426e03",
   "metadata": {},
   "outputs": [],
   "source": [
    "for student in listed_students:\n",
    "    if (student[1] + student[2]) > p:\n",
    "        print(f'El siguiente alumno tiene un promedio menor a la media: {student[0]} -> con notas: {student[1:]}')"
   ]
  }
 ],
 "metadata": {
  "kernelspec": {
   "display_name": "Python 3 (ipykernel)",
   "language": "python",
   "name": "python3"
  },
  "language_info": {
   "codemirror_mode": {
    "name": "ipython",
    "version": 3
   },
   "file_extension": ".py",
   "mimetype": "text/x-python",
   "name": "python",
   "nbconvert_exporter": "python",
   "pygments_lexer": "ipython3",
   "version": "3.10.2"
  }
 },
 "nbformat": 4,
 "nbformat_minor": 5
}
